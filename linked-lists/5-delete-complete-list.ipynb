{
 "cells": [
  {
   "cell_type": "code",
   "execution_count": 1,
   "metadata": {},
   "outputs": [],
   "source": [
    "class Node:\n",
    "    \n",
    "    def __init__(self, data):\n",
    "        self.data = data\n",
    "        self.next = None"
   ]
  },
  {
   "cell_type": "code",
   "execution_count": 4,
   "metadata": {},
   "outputs": [],
   "source": [
    "class LinkedList:\n",
    "    \n",
    "    def __init__(self):\n",
    "        self.head = None\n",
    "        \n",
    "    # insert at beginning\n",
    "    def push(self, new_data):\n",
    "        new_node = Node(new_data)\n",
    "        new_node.next = self.head\n",
    "        self.head = new_node\n",
    "        \n",
    "    # insert in between\n",
    "    def insertAfter(self, prev, new_data):\n",
    "        new_node = Node(new_data)\n",
    "        new_node.next = prev.next\n",
    "        prev.next = new_node\n",
    "        \n",
    "    # insert at end\n",
    "    def append(self, new_data):\n",
    "        new_node = Node(new_data)\n",
    "        \n",
    "        if self.head is None:\n",
    "            self.head = new_node\n",
    "            return\n",
    "        \n",
    "        last = self.head\n",
    "        while last.next:\n",
    "            last = last.next\n",
    "        \n",
    "        last.next = new_node\n",
    "        \n",
    "    def printList(self):\n",
    "        temp = self.head\n",
    "        \n",
    "        while(temp):\n",
    "            print(temp.data)\n",
    "            temp = temp.next   \n",
    "            \n",
    "    \n",
    "    def deleteList(self):\n",
    "        current = self.head\n",
    "        \n",
    "        while(current):\n",
    "            prev = current.next\n",
    "            del current.data\n",
    "            current = prev"
   ]
  },
  {
   "cell_type": "code",
   "execution_count": 6,
   "metadata": {},
   "outputs": [
    {
     "name": "stdout",
     "output_type": "stream",
     "text": [
      "3\n",
      "2\n",
      "4\n",
      "3\n",
      "2\n",
      "10\n",
      "4\n"
     ]
    }
   ],
   "source": [
    "if __name__ == '__main__':\n",
    "    \n",
    "    llist = LinkedList()\n",
    "    \n",
    "    llist.append(2)\n",
    "    llist.push(3)\n",
    "    llist.append(4)\n",
    "    \n",
    "    llist.printList()\n",
    "    \n",
    "    llist.insertAfter(llist.head.next,10)\n",
    "    llist.printList()\n",
    "    \n",
    "    llist.deleteList()\n",
    "    #llist.printList()"
   ]
  }
 ],
 "metadata": {
  "kernelspec": {
   "display_name": "Python 3",
   "language": "python",
   "name": "python3"
  },
  "language_info": {
   "codemirror_mode": {
    "name": "ipython",
    "version": 3
   },
   "file_extension": ".py",
   "mimetype": "text/x-python",
   "name": "python",
   "nbconvert_exporter": "python",
   "pygments_lexer": "ipython3",
   "version": "3.6.8"
  }
 },
 "nbformat": 4,
 "nbformat_minor": 2
}
