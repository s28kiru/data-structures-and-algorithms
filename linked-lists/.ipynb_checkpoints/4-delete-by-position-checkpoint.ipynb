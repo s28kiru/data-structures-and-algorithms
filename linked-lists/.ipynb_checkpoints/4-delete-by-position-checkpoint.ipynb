{
 "cells": [
  {
   "cell_type": "markdown",
   "metadata": {},
   "source": [
    "# Delete nodes by position"
   ]
  },
  {
   "cell_type": "code",
   "execution_count": 3,
   "metadata": {},
   "outputs": [],
   "source": [
    "class Node:\n",
    "    def __init__(self, data):\n",
    "        self.data = data\n",
    "        self.next = None"
   ]
  },
  {
   "cell_type": "code",
   "execution_count": 25,
   "metadata": {},
   "outputs": [],
   "source": [
    "class LinkedList:\n",
    "    \n",
    "    def __init__(self):\n",
    "        self.head = None\n",
    "        \n",
    "    def push(self, new_data):\n",
    "        new_node = Node(new_data)\n",
    "        new_node.next = self.head\n",
    "        self.head = new_node\n",
    "        \n",
    "    def append(self, new_data):\n",
    "        new_node = Node(new_data)\n",
    "        \n",
    "        if self.head is None:\n",
    "            self.head = new_node\n",
    "            return\n",
    "        \n",
    "        last = self.head\n",
    "        while(last.next):\n",
    "            last = last.next\n",
    "        \n",
    "        last.next = new_node\n",
    "          \n",
    "    def insertAfter(self, prev, new_data):\n",
    "        new_node = Node(new_data)\n",
    "        new_node.next = prev.next\n",
    "        prev.next = new_node\n",
    "        \n",
    "    def printList(self):\n",
    "        temp = self.head\n",
    "        \n",
    "        print(\"New list\")\n",
    "        while(temp):\n",
    "            print(temp.data)\n",
    "            temp = temp.next\n",
    "        \n",
    "    def deleteValue(self, del_value):\n",
    "        temp = self.head\n",
    "        \n",
    "        if(temp is not None):\n",
    "            if(temp.data == del_value):\n",
    "                self.head = temp.next\n",
    "                temp = None\n",
    "                return\n",
    "            \n",
    "        while(temp is not None):\n",
    "            if(temp.data == del_value):\n",
    "                break\n",
    "                \n",
    "            prev = temp\n",
    "            temp = temp.next\n",
    "            \n",
    "        if(temp == None):\n",
    "            return\n",
    "        \n",
    "        prev.next = temp.next\n",
    "        temp = None\n",
    "        \n",
    "    def deleteIndex(self, pos):\n",
    "        if(self.head == None):\n",
    "            return\n",
    "        \n",
    "        temp = self.head\n",
    "        \n",
    "        if(pos == 0):\n",
    "            self.head = temp.next\n",
    "            temp = None\n",
    "            return\n",
    "        \n",
    "        for i in range(pos-1):\n",
    "            temp = temp.next\n",
    "            if temp is None:\n",
    "                break\n",
    "                \n",
    "            #if temp is None:\n",
    "             #   return\n",
    "            #if temp.next is None:\n",
    "             #   return\n",
    "            \n",
    "            next = temp.next.next\n",
    "            temp.next = None\n",
    "            temp.next = next\n",
    " "
   ]
  },
  {
   "cell_type": "code",
   "execution_count": 29,
   "metadata": {},
   "outputs": [
    {
     "name": "stdout",
     "output_type": "stream",
     "text": [
      "New list\n",
      "2\n",
      "4\n",
      "5\n",
      "9\n",
      "7\n",
      "New list\n",
      "2\n",
      "4\n",
      "9\n"
     ]
    }
   ],
   "source": [
    "if __name__ == '__main__':\n",
    "    \n",
    "    llist = LinkedList()\n",
    "    \n",
    "    llist.push(5)\n",
    "    llist.push(4)\n",
    "    llist.push(2)\n",
    "    llist.append(9)\n",
    "    llist.append(7)\n",
    "    \n",
    "    llist.printList()\n",
    "    \n",
    "    llist.deleteIndex(4)\n",
    "    \n",
    "    llist.printList()\n",
    "    "
   ]
  }
 ],
 "metadata": {
  "kernelspec": {
   "display_name": "Python 3",
   "language": "python",
   "name": "python3"
  },
  "language_info": {
   "codemirror_mode": {
    "name": "ipython",
    "version": 3
   },
   "file_extension": ".py",
   "mimetype": "text/x-python",
   "name": "python",
   "nbconvert_exporter": "python",
   "pygments_lexer": "ipython3",
   "version": "3.6.8"
  }
 },
 "nbformat": 4,
 "nbformat_minor": 2
}
