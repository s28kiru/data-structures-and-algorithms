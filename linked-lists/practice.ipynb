{
 "cells": [
  {
   "cell_type": "code",
   "execution_count": 1,
   "metadata": {},
   "outputs": [],
   "source": [
    "class Node:\n",
    "    def __init__(self, data):\n",
    "        self.data = data\n",
    "        self.next = None"
   ]
  },
  {
   "cell_type": "code",
   "execution_count": 16,
   "metadata": {},
   "outputs": [],
   "source": [
    "class LinkedList:\n",
    "    def __init__(self):\n",
    "        self.head = None\n",
    "        \n",
    "    def insert(self, new_num):\n",
    "        new_node = Node(new_num)\n",
    "        new_node.next = self.head\n",
    "        self.head = new_node\n",
    "    \n",
    "    def insert_after(self, prev, num):\n",
    "        new_node = Node(num)\n",
    "        temp = self.head\n",
    "        \n",
    "        while(temp.data != prev):\n",
    "            temp = temp.next\n",
    "        \n",
    "        new_node.next = temp.next\n",
    "        temp.next = new_node\n",
    "        \n",
    "    def append(self, num):\n",
    "        new_node = Node(num)\n",
    "        \n",
    "        if(self.head is None):\n",
    "            self.head = new_node\n",
    "            return\n",
    "            \n",
    "        last = self.head\n",
    "        while(last.next):\n",
    "            last = last.next\n",
    "                \n",
    "        last.next = new_node\n",
    "        \n",
    "    def print_list(self):\n",
    "        temp = self.head\n",
    "        \n",
    "        while(temp):\n",
    "            print(temp.data)\n",
    "            temp = temp.next"
   ]
  },
  {
   "cell_type": "code",
   "execution_count": 17,
   "metadata": {},
   "outputs": [
    {
     "name": "stdout",
     "output_type": "stream",
     "text": [
      "5\n",
      "9\n",
      "13\n",
      "4\n",
      "14\n"
     ]
    }
   ],
   "source": [
    "l1 = LinkedList()\n",
    "l1.insert(4)\n",
    "l1.insert(5)\n",
    "l1.insert_after(5,9)\n",
    "l1.insert_after(9, 13)\n",
    "l1.append(14)\n",
    "l1.print_list()"
   ]
  },
  {
   "cell_type": "code",
   "execution_count": null,
   "metadata": {},
   "outputs": [],
   "source": []
  }
 ],
 "metadata": {
  "kernelspec": {
   "display_name": "Python 3",
   "language": "python",
   "name": "python3"
  },
  "language_info": {
   "codemirror_mode": {
    "name": "ipython",
    "version": 3
   },
   "file_extension": ".py",
   "mimetype": "text/x-python",
   "name": "python",
   "nbconvert_exporter": "python",
   "pygments_lexer": "ipython3",
   "version": "3.6.8"
  }
 },
 "nbformat": 4,
 "nbformat_minor": 2
}
