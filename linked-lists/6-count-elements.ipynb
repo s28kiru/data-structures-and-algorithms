{
 "cells": [
  {
   "cell_type": "markdown",
   "metadata": {},
   "source": [
    "# Count number of elements and search an element - Recursive and Iterative"
   ]
  },
  {
   "cell_type": "code",
   "execution_count": 1,
   "metadata": {},
   "outputs": [],
   "source": [
    "class Node:\n",
    "    \n",
    "    def __init__(self, data):\n",
    "        self.data = data\n",
    "        self.next = None"
   ]
  },
  {
   "cell_type": "code",
   "execution_count": 17,
   "metadata": {},
   "outputs": [],
   "source": [
    "class LinkedList:\n",
    "    def __init__(self):\n",
    "        self.head = None\n",
    "        \n",
    "    def push(self, data):\n",
    "        new_node = Node(data)\n",
    "        new_node.next = self.head\n",
    "        self.head = new_node\n",
    "        \n",
    "    def printList(self):\n",
    "        temp = self.head\n",
    "        \n",
    "        while(temp):\n",
    "            print(temp.data)\n",
    "            temp = temp.next\n",
    "            \n",
    "    def countIterative(self):\n",
    "        temp = self.head\n",
    "        count = 0\n",
    "        while(temp):\n",
    "            count = count + 1\n",
    "            temp = temp.next\n",
    "            \n",
    "        return(count)\n",
    "\n",
    "    def getCountRec(self, node):\n",
    "        if(not node):\n",
    "            return 0\n",
    "        else:\n",
    "            return 1 + self.getCountRec(node.next)\n",
    "        \n",
    "        \n",
    "    def countRec(self):\n",
    "        return self.getCountRec(self.head)\n",
    "    \n",
    "    def searchIterative(self, x):\n",
    "        current = self.head\n",
    "        \n",
    "        while(current is not None):\n",
    "            if(current.data == x):\n",
    "                return True\n",
    "            current = current.next\n",
    "            \n",
    "        return False\n",
    "    \n",
    "    def searchRecursive(self, li, x):\n",
    "        if(not li):\n",
    "            return False\n",
    "        \n",
    "        if(li.data == x):\n",
    "            return True\n",
    "        else:\n",
    "            return self.searchRecursive(li.next,x)\n"
   ]
  },
  {
   "cell_type": "code",
   "execution_count": 18,
   "metadata": {},
   "outputs": [
    {
     "name": "stdout",
     "output_type": "stream",
     "text": [
      "6\n",
      "6\n",
      "4\n",
      "3\n",
      "number:\t 4\n",
      "number count from recursive function:\t 4\n",
      "Search Iterative\t False\n",
      "Search Recursive\t False\n"
     ]
    }
   ],
   "source": [
    "if __name__ == '__main__':\n",
    "    llist = LinkedList()\n",
    "    llist.push(3)\n",
    "    llist.push(4)\n",
    "    llist.push(6)\n",
    "    llist.push(6)\n",
    "    \n",
    "    llist.printList()\n",
    "    x = llist.countIterative()\n",
    "    print(\"number:\\t\", x)\n",
    "    \n",
    "    y = llist.countRec()\n",
    "    print(\"number count from recursive function:\\t\", y)\n",
    "    \n",
    "    z = llist.searchIterative(5)\n",
    "    print(\"Search Iterative\\t\", z)\n",
    "    \n",
    "    a = llist.searchRecursive(llist.head, 5)\n",
    "    print(\"Search Recursive\\t\", a)"
   ]
  },
  {
   "cell_type": "code",
   "execution_count": null,
   "metadata": {},
   "outputs": [],
   "source": []
  }
 ],
 "metadata": {
  "kernelspec": {
   "display_name": "Python 3",
   "language": "python",
   "name": "python3"
  },
  "language_info": {
   "codemirror_mode": {
    "name": "ipython",
    "version": 3
   },
   "file_extension": ".py",
   "mimetype": "text/x-python",
   "name": "python",
   "nbconvert_exporter": "python",
   "pygments_lexer": "ipython3",
   "version": "3.6.8"
  }
 },
 "nbformat": 4,
 "nbformat_minor": 2
}
