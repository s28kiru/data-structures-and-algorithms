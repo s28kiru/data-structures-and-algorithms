{
 "cells": [
  {
   "cell_type": "markdown",
   "metadata": {},
   "source": [
    "# Sorting algorithms"
   ]
  },
  {
   "cell_type": "markdown",
   "metadata": {},
   "source": [
    "### Selection sort"
   ]
  },
  {
   "cell_type": "code",
   "execution_count": 1,
   "metadata": {},
   "outputs": [],
   "source": [
    "# Time complexity = O(n^2)\n",
    "# space complexity = O(1)\n",
    "\n",
    "def selection_sort(arr):\n",
    "    \n",
    "    for i in range(0,len(arr)):\n",
    "        min_idx = i\n",
    "        \n",
    "        for j in range(i+1, len(arr)):\n",
    "            if(arr[min_idx] > arr[j]):\n",
    "                min_idx = j\n",
    "                \n",
    "        arr[i], arr[min_idx] = arr[min_idx], arr[i]"
   ]
  },
  {
   "cell_type": "code",
   "execution_count": 2,
   "metadata": {},
   "outputs": [
    {
     "name": "stdout",
     "output_type": "stream",
     "text": [
      "previous:\t [64, 25, 12, 22, 11]\n",
      "sorted array:\t [11, 12, 22, 25, 64]\n"
     ]
    }
   ],
   "source": [
    "a = [64, 25, 12, 22, 11]\n",
    "\n",
    "print(\"previous:\\t\", a)\n",
    "selection_sort(a)\n",
    "\n",
    "print(\"sorted array:\\t\", a)"
   ]
  },
  {
   "cell_type": "markdown",
   "metadata": {},
   "source": [
    "### Bubble sort"
   ]
  },
  {
   "cell_type": "code",
   "execution_count": 3,
   "metadata": {},
   "outputs": [],
   "source": [
    "# Time complexity = O(n^2) and O(n) in best case\n",
    "# space complexity = O(1)"
   ]
  },
  {
   "cell_type": "code",
   "execution_count": 4,
   "metadata": {},
   "outputs": [],
   "source": [
    "def bubble_sort(arr):\n",
    "    n = len(arr)\n",
    "    for i in range(n):\n",
    "        for j in range(0, n-i-1):\n",
    "            if(arr[j] > arr[j+1]):\n",
    "                arr[j], arr[j+1] = arr[j+1], arr[j]\n",
    "                "
   ]
  },
  {
   "cell_type": "code",
   "execution_count": 5,
   "metadata": {},
   "outputs": [
    {
     "name": "stdout",
     "output_type": "stream",
     "text": [
      "previous:\t [64, 25, 12, 22, 11]\n",
      "sorted array:\t [11, 12, 22, 25, 64]\n"
     ]
    }
   ],
   "source": [
    "a = [64, 25, 12, 22, 11]\n",
    "\n",
    "print(\"previous:\\t\", a)\n",
    "bubble_sort(a)\n",
    "\n",
    "print(\"sorted array:\\t\", a)"
   ]
  },
  {
   "cell_type": "markdown",
   "metadata": {},
   "source": [
    "### Insertion sort"
   ]
  },
  {
   "cell_type": "code",
   "execution_count": 8,
   "metadata": {},
   "outputs": [],
   "source": [
    "def insertion_sort(arr):\n",
    "    for i in range(1, len(arr)):\n",
    "        key = arr[i]\n",
    "        j = i - 1\n",
    "        \n",
    "        while j >= 0 and key < arr[j]:\n",
    "            arr[j+1] = arr[j]\n",
    "            j = j - 1\n",
    "        arr[j+1] = key"
   ]
  },
  {
   "cell_type": "code",
   "execution_count": 9,
   "metadata": {},
   "outputs": [
    {
     "name": "stdout",
     "output_type": "stream",
     "text": [
      "previous:\t [64, 25, 12, 22, 11]\n",
      "sorted array:\t [11, 12, 22, 25, 64]\n"
     ]
    }
   ],
   "source": [
    "a = [64, 25, 12, 22, 11]\n",
    "\n",
    "print(\"previous:\\t\", a)\n",
    "insertion_sort(a)\n",
    "\n",
    "print(\"sorted array:\\t\", a)"
   ]
  },
  {
   "cell_type": "markdown",
   "metadata": {},
   "source": [
    "### Merge Sort"
   ]
  },
  {
   "cell_type": "code",
   "execution_count": 10,
   "metadata": {},
   "outputs": [],
   "source": [
    "# Time complexity - O(nlogn)\n",
    "# space - O(n)\n",
    "def merge_sort(arr):\n",
    "    if len(arr) > 1:\n",
    "        mid = len(arr)//2\n",
    "        L = arr[:mid]\n",
    "        R = arr[mid:]\n",
    "        \n",
    "        merge_sort(L)\n",
    "        merge_sort(R)\n",
    "        \n",
    "        i = j = k = 0\n",
    "        \n",
    "        while i < len(L) and j < len(R):\n",
    "            \n",
    "            if(L[i] < R[j]):\n",
    "                arr[k] = L[i]\n",
    "                i += 1\n",
    "                \n",
    "            else:\n",
    "                arr[k] = R[j]\n",
    "                j += 1\n",
    "            \n",
    "            k += 1\n",
    "            \n",
    "        while(i < len(L)):\n",
    "            arr[k] = L[i]\n",
    "            i += 1\n",
    "            k += 1\n",
    "            \n",
    "        while(j < len(R)):\n",
    "            arr[k] = R[j]\n",
    "            j += 1\n",
    "            k += 1       "
   ]
  },
  {
   "cell_type": "code",
   "execution_count": 11,
   "metadata": {},
   "outputs": [
    {
     "name": "stdout",
     "output_type": "stream",
     "text": [
      "previous:\t [64, 25, 12, 22, 11]\n",
      "sorted array:\t [11, 12, 22, 25, 64]\n"
     ]
    }
   ],
   "source": [
    "a = [64, 25, 12, 22, 11]\n",
    "\n",
    "print(\"previous:\\t\", a)\n",
    "merge_sort(a)\n",
    "\n",
    "print(\"sorted array:\\t\", a)"
   ]
  },
  {
   "cell_type": "markdown",
   "metadata": {},
   "source": [
    "# Quick Sort"
   ]
  },
  {
   "cell_type": "code",
   "execution_count": 12,
   "metadata": {},
   "outputs": [],
   "source": [
    "# Time complexity - O(n^2) - worst case and O(nlogn) in best and avg case"
   ]
  },
  {
   "cell_type": "code",
   "execution_count": 13,
   "metadata": {},
   "outputs": [],
   "source": [
    "def partition(arr, low, high):\n",
    "    i = low - 1\n",
    "    pivot = arr[high]\n",
    "    \n",
    "    for j in range(low, high):\n",
    "        if(arr[j] < pivot):\n",
    "            i = i+1\n",
    "            arr[i], arr[j] = arr[j], arr[i]\n",
    "    \n",
    "    arr[i+1], arr[high] = arr[high], arr[i+1]\n",
    "    \n",
    "    return(i+1)\n",
    "\n",
    "def quick_sort(arr, low, high):\n",
    "    \n",
    "    if(low < high):\n",
    "        pi = partition(arr, low, high)\n",
    "        \n",
    "        quick_sort(arr,low, pi-1)\n",
    "        quick_sort(arr, pi+1, high)"
   ]
  },
  {
   "cell_type": "code",
   "execution_count": 15,
   "metadata": {},
   "outputs": [
    {
     "name": "stdout",
     "output_type": "stream",
     "text": [
      "previous:\t [64, 25, 12, 22, 11]\n",
      "sorted array:\t [11, 12, 22, 25, 64]\n"
     ]
    }
   ],
   "source": [
    "a = [64, 25, 12, 22, 11]\n",
    "\n",
    "print(\"previous:\\t\", a)\n",
    "quick_sort(a, 0, len(a)-1)\n",
    "\n",
    "print(\"sorted array:\\t\", a)"
   ]
  },
  {
   "cell_type": "code",
   "execution_count": 16,
   "metadata": {},
   "outputs": [
    {
     "name": "stdout",
     "output_type": "stream",
     "text": [
      "previous:\t [10, 7, 9, 8, 1, 5]\n",
      "sorted array:\t [1, 5, 7, 8, 9, 10]\n"
     ]
    }
   ],
   "source": [
    "a = [10,7,9,8,1,5]\n",
    "\n",
    "print(\"previous:\\t\", a)\n",
    "quick_sort(a, 0, len(a)-1)\n",
    "\n",
    "print(\"sorted array:\\t\", a)"
   ]
  }
 ],
 "metadata": {
  "kernelspec": {
   "display_name": "Python 3",
   "language": "python",
   "name": "python3"
  },
  "language_info": {
   "codemirror_mode": {
    "name": "ipython",
    "version": 3
   },
   "file_extension": ".py",
   "mimetype": "text/x-python",
   "name": "python",
   "nbconvert_exporter": "python",
   "pygments_lexer": "ipython3",
   "version": "3.6.8"
  }
 },
 "nbformat": 4,
 "nbformat_minor": 2
}
