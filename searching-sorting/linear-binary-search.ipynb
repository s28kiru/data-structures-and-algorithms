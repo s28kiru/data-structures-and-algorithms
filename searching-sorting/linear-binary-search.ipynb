{
 "cells": [
  {
   "cell_type": "markdown",
   "metadata": {},
   "source": [
    "# Searching algorithms"
   ]
  },
  {
   "cell_type": "markdown",
   "metadata": {},
   "source": [
    "### Linear search"
   ]
  },
  {
   "cell_type": "code",
   "execution_count": 6,
   "metadata": {},
   "outputs": [],
   "source": [
    "# O(n)\n",
    "def linear_search(arr, x):\n",
    "    for i in range(0, len(arr)):\n",
    "        if(arr[i] == x):\n",
    "            return(i)\n",
    "    return(-1)"
   ]
  },
  {
   "cell_type": "markdown",
   "metadata": {},
   "source": [
    "### Binary search on a sorted array"
   ]
  },
  {
   "cell_type": "code",
   "execution_count": 31,
   "metadata": {},
   "outputs": [],
   "source": [
    "# O(log n)\n",
    "# Assuming that array is sorted and iterative function\n",
    "\n",
    "def binary_search(arr, x):\n",
    "    first = 0\n",
    "    last = len(arr) - 1\n",
    "    found = False\n",
    "    \n",
    "    while(first <= last and not found):\n",
    "        mid = (first + last) // 2\n",
    "        \n",
    "        if(arr[mid] == x):\n",
    "            found = True\n",
    "        else:\n",
    "            \n",
    "            if(x < arr[mid]):\n",
    "                last = mid - 1\n",
    "            else:\n",
    "                first = mid + 1\n",
    "    \n",
    "    return(found)"
   ]
  },
  {
   "cell_type": "code",
   "execution_count": 18,
   "metadata": {},
   "outputs": [
    {
     "name": "stdout",
     "output_type": "stream",
     "text": [
      "linear search output:\t -1\n"
     ]
    }
   ],
   "source": [
    "array = [1,7,5,2,99,22]\n",
    "\n",
    "found = linear_search(array, 45)\n",
    "print(\"linear search output:\\t\", found)"
   ]
  },
  {
   "cell_type": "code",
   "execution_count": 35,
   "metadata": {},
   "outputs": [
    {
     "name": "stdout",
     "output_type": "stream",
     "text": [
      "binary search output:\t False\n"
     ]
    }
   ],
   "source": [
    "a = sorted(array)\n",
    "found = binary_search(a, 56)\n",
    "print(\"binary search output:\\t\", found)"
   ]
  }
 ],
 "metadata": {
  "kernelspec": {
   "display_name": "Python 3",
   "language": "python",
   "name": "python3"
  },
  "language_info": {
   "codemirror_mode": {
    "name": "ipython",
    "version": 3
   },
   "file_extension": ".py",
   "mimetype": "text/x-python",
   "name": "python",
   "nbconvert_exporter": "python",
   "pygments_lexer": "ipython3",
   "version": "3.7.1"
  }
 },
 "nbformat": 4,
 "nbformat_minor": 2
}
