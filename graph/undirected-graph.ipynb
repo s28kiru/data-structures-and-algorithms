{
 "cells": [
  {
   "cell_type": "markdown",
   "metadata": {},
   "source": [
    "# Undirected graph and printing adjacency matrix"
   ]
  },
  {
   "cell_type": "markdown",
   "metadata": {},
   "source": [
    "* https://www.geeksforgeeks.org/graph-and-its-representations/"
   ]
  },
  {
   "cell_type": "code",
   "execution_count": 5,
   "metadata": {},
   "outputs": [],
   "source": [
    "class AdjNode:\n",
    "    def __init__(self, data):\n",
    "        self.vertex = data\n",
    "        self.next = None"
   ]
  },
  {
   "cell_type": "code",
   "execution_count": 8,
   "metadata": {},
   "outputs": [],
   "source": [
    "class Graph:\n",
    "    def __init__(self, vertices):\n",
    "        self.V = vertices\n",
    "        self.graph = [None] * self.V\n",
    "        \n",
    "    def add_edge(self, src, dest):\n",
    "        node = AdjNode(dest)\n",
    "        node.next = self.graph[src]\n",
    "        self.graph[src] = node\n",
    "    \n",
    "        node = AdjNode(src)\n",
    "        node.next = self.graph[dest]\n",
    "        self.graph[dest] = node\n",
    "        \n",
    "    def print_nodes(self):\n",
    "        for i in range(self.V):\n",
    "            print(\"adjacency matrix of \", i)\n",
    "            temp = self.graph[i]\n",
    "        \n",
    "            while(temp):\n",
    "                print(\"->\\t\", temp.vertex)\n",
    "                temp = temp.next\n",
    "        print(\"\\n\")"
   ]
  },
  {
   "cell_type": "code",
   "execution_count": 9,
   "metadata": {},
   "outputs": [
    {
     "name": "stdout",
     "output_type": "stream",
     "text": [
      "adjacency matrix of  0\n",
      "->\t 4\n",
      "->\t 1\n",
      "adjacency matrix of  1\n",
      "->\t 4\n",
      "->\t 3\n",
      "->\t 2\n",
      "->\t 0\n",
      "adjacency matrix of  2\n",
      "->\t 3\n",
      "->\t 1\n",
      "adjacency matrix of  3\n",
      "->\t 4\n",
      "->\t 2\n",
      "->\t 1\n",
      "adjacency matrix of  4\n",
      "->\t 3\n",
      "->\t 1\n",
      "->\t 0\n",
      "\n",
      "\n"
     ]
    }
   ],
   "source": [
    "if __name__ == '__main__':\n",
    "    \n",
    "    V = 5\n",
    "    graph = Graph(V)\n",
    "    \n",
    "    graph.add_edge(0, 1) \n",
    "    graph.add_edge(0, 4) \n",
    "    graph.add_edge(1, 2) \n",
    "    graph.add_edge(1, 3) \n",
    "    graph.add_edge(1, 4) \n",
    "    graph.add_edge(2, 3) \n",
    "    graph.add_edge(3, 4) \n",
    "  \n",
    "    graph.print_nodes() "
   ]
  }
 ],
 "metadata": {
  "kernelspec": {
   "display_name": "Python 3",
   "language": "python",
   "name": "python3"
  },
  "language_info": {
   "codemirror_mode": {
    "name": "ipython",
    "version": 3
   },
   "file_extension": ".py",
   "mimetype": "text/x-python",
   "name": "python",
   "nbconvert_exporter": "python",
   "pygments_lexer": "ipython3",
   "version": "3.6.8"
  }
 },
 "nbformat": 4,
 "nbformat_minor": 2
}
