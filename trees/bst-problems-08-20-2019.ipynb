{
 "cells": [
  {
   "cell_type": "code",
   "execution_count": 25,
   "metadata": {},
   "outputs": [],
   "source": [
    "# 1. Find minimum value in a BST\n",
    "class Node:\n",
    "    def __init__(self, key):\n",
    "        self.data = key\n",
    "        self.left = None\n",
    "        self.right = None\n",
    "\n",
    "def insertNode(node, data):\n",
    "    if node is None:\n",
    "        return(Node(data))\n",
    "    \n",
    "    else:\n",
    "        if(node.data <= data):\n",
    "            return(insertNode(node.right, data))\n",
    "        else:\n",
    "            return(insertNode(node.left, data))\n",
    "    return(node)\n",
    "        \n",
    "def findMin(node):\n",
    "    current = node\n",
    "    \n",
    "    while(current.left is not None):\n",
    "        current = current.left\n",
    "    return(current.data)"
   ]
  },
  {
   "cell_type": "code",
   "execution_count": 26,
   "metadata": {},
   "outputs": [
    {
     "data": {
      "text/plain": [
       "<__main__.Node at 0x105e69630>"
      ]
     },
     "execution_count": 26,
     "metadata": {},
     "output_type": "execute_result"
    }
   ],
   "source": [
    "root = None\n",
    "root = insertNode(root,4) \n",
    "insertNode(root,2) \n",
    "insertNode(root,1) \n",
    "insertNode(root,3) \n",
    "insertNode(root,6) \n",
    "insertNode(root,5) "
   ]
  },
  {
   "cell_type": "code",
   "execution_count": 27,
   "metadata": {},
   "outputs": [
    {
     "name": "stdout",
     "output_type": "stream",
     "text": [
      "min value is\t 4\n"
     ]
    }
   ],
   "source": [
    "print(\"min value is\\t\", findMin(root))\n",
    "  "
   ]
  },
  {
   "cell_type": "code",
   "execution_count": 35,
   "metadata": {},
   "outputs": [],
   "source": [
    "# 2. level order tree traversal using queue\n",
    "def printLevelOrder(node):\n",
    "    if node is None:\n",
    "        return\n",
    "    \n",
    "    queue = []\n",
    "    queue.append(node)\n",
    "    \n",
    "    while(len(queue) > 0):\n",
    "        print(queue[0].data)\n",
    "        current = queue.pop(0)\n",
    "        \n",
    "        if(current.left is not None):\n",
    "            queue.append(current.left)\n",
    "            \n",
    "        if(current.right is not None):\n",
    "            queue.append(current.right)\n"
   ]
  },
  {
   "cell_type": "code",
   "execution_count": 36,
   "metadata": {},
   "outputs": [],
   "source": [
    "root = Node(1)\n",
    "root.left = Node(2)\n",
    "root.right = Node(3)\n",
    "root.left.left = Node(4)\n",
    "root.left.right = Node(5)"
   ]
  },
  {
   "cell_type": "code",
   "execution_count": 37,
   "metadata": {},
   "outputs": [
    {
     "name": "stdout",
     "output_type": "stream",
     "text": [
      "1\n",
      "2\n",
      "3\n",
      "4\n",
      "5\n"
     ]
    }
   ],
   "source": [
    "printLevelOrder(root)"
   ]
  },
  {
   "cell_type": "code",
   "execution_count": null,
   "metadata": {},
   "outputs": [],
   "source": []
  }
 ],
 "metadata": {
  "kernelspec": {
   "display_name": "Python 3",
   "language": "python",
   "name": "python3"
  },
  "language_info": {
   "codemirror_mode": {
    "name": "ipython",
    "version": 3
   },
   "file_extension": ".py",
   "mimetype": "text/x-python",
   "name": "python",
   "nbconvert_exporter": "python",
   "pygments_lexer": "ipython3",
   "version": "3.6.8"
  }
 },
 "nbformat": 4,
 "nbformat_minor": 2
}
